{
 "cells": [
  {
   "cell_type": "code",
   "execution_count": null,
   "id": "829620f7",
   "metadata": {},
   "outputs": [
    {
     "ename": "",
     "evalue": "",
     "output_type": "error",
     "traceback": [
      "\u001b[1;31m无法启动 Kernel。 \n",
      "\u001b[1;31mAttributeError: module 're' has no attribute 'Pattern'. \n",
      "\u001b[1;31m有关更多详细信息，请查看 Jupyter <a href='command:jupyter.viewOutput'>log</a>。"
     ]
    }
   ],
   "source": [
    "# 📘 Jupyter Notebook Cell: 打开 `.pt` 文件并展示部分内容\n",
    "\n",
    "import torch\n",
    "\n",
    "# 加载 pt 文件，修改路径为你的文件名\n",
    "data = torch.load(\"erm_MSCN_0.5_1_5e-04_100.pkl.pt\", map_location=\"cpu\")\n",
    "\n",
    "# 查看 batch 总数\n",
    "total_batches = len(data)\n",
    "print(f\"Total batches: {total_batches}\")\n",
    "\n",
    "# 预览前几个 batch 的内容\n",
    "for i, batch in enumerate(data[:3]):  # 展示前 3 个 batch\n",
    "    size, vec, label = batch\n",
    "    print(f\"\\nBatch {i+1}:\")\n",
    "    print(f\"  Size: {size[:5]} ... (total: {len(size)})\")\n",
    "    print(f\"  Vector shape: {vec.shape}\")\n",
    "    print(f\"  Label: {label[:5]} ...\")\n"
   ]
  }
 ],
 "metadata": {
  "kernelspec": {
   "display_name": "test2",
   "language": "python",
   "name": "python3"
  },
  "language_info": {
   "name": "python",
   "version": "3.7.16"
  }
 },
 "nbformat": 4,
 "nbformat_minor": 5
}
